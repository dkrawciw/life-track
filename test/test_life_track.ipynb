{
 "cells": [
  {
   "cell_type": "code",
   "execution_count": null,
   "id": "e6d8fc43",
   "metadata": {},
   "outputs": [],
   "source": [
    "import os\n",
    "import sys\n",
    "from pathlib import Path\n",
    "\n",
    "sys.path.insert(0, '..')\n",
    "from model.LifeTrack import LifeTrack"
   ]
  },
  {
   "cell_type": "code",
   "execution_count": 4,
   "id": "7f9d1c5e",
   "metadata": {},
   "outputs": [],
   "source": [
    "track_one = LifeTrack()\n",
    "track_one.send_daily_email()"
   ]
  }
 ],
 "metadata": {
  "kernelspec": {
   "display_name": ".venv",
   "language": "python",
   "name": "python3"
  },
  "language_info": {
   "codemirror_mode": {
    "name": "ipython",
    "version": 3
   },
   "file_extension": ".py",
   "mimetype": "text/x-python",
   "name": "python",
   "nbconvert_exporter": "python",
   "pygments_lexer": "ipython3",
   "version": "3.13.5"
  }
 },
 "nbformat": 4,
 "nbformat_minor": 5
}
