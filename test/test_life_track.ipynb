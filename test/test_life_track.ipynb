{
 "cells": [
  {
   "cell_type": "code",
   "execution_count": 1,
   "id": "e6d8fc43",
   "metadata": {},
   "outputs": [],
   "source": [
    "import os\n",
    "import sys\n",
    "from pathlib import Path\n",
    "\n",
    "sys.path.insert(0, '..')\n",
    "from model.LifeTrack import LifeTrack"
   ]
  },
  {
   "cell_type": "code",
   "execution_count": 2,
   "id": "7f9d1c5e",
   "metadata": {},
   "outputs": [],
   "source": [
    "track_one = LifeTrack()"
   ]
  },
  {
   "cell_type": "code",
   "execution_count": 3,
   "id": "8b20b753",
   "metadata": {},
   "outputs": [
    {
     "data": {
      "text/plain": [
       "'Uncomment to test sending the daily email'"
      ]
     },
     "execution_count": 3,
     "metadata": {},
     "output_type": "execute_result"
    }
   ],
   "source": [
    "\"\"\"Uncomment to test sending the daily email\"\"\"\n",
    "# track_one.send_daily_email()"
   ]
  },
  {
   "cell_type": "code",
   "execution_count": 4,
   "id": "022ab237",
   "metadata": {},
   "outputs": [],
   "source": [
    "\"\"\"Uncomment to get the dataframe representing the events\"\"\"\n",
    "track_one.update_google_calendar_events()\n",
    "df = track_one.get_event_df()"
   ]
  },
  {
   "cell_type": "markdown",
   "id": "5b102239",
   "metadata": {},
   "source": [
    "## Playing around with time settings"
   ]
  },
  {
   "cell_type": "code",
   "execution_count": null,
   "id": "41f233f4",
   "metadata": {},
   "outputs": [],
   "source": [
    "from datetime import datetime\n",
    "from dateutil import tz\n",
    "\n",
    "now = datetime.now().astimezone(tz.gettz('America/Denver'))\n",
    "now\n",
    "df['time_diff'] = df['Start Time'].apply(lambda t: (t - now))"
   ]
  },
  {
   "cell_type": "code",
   "execution_count": 39,
   "id": "cbce050b",
   "metadata": {},
   "outputs": [
    {
     "name": "stdout",
     "output_type": "stream",
     "text": [
      "                              Title                 Start Time  \\\n",
      "0  Lunch with Michael and Demetrius  2025-07-17 12:30:00-06:00   \n",
      "1        Jared Midavaine's birthday  2025-07-19 00:00:00-06:00   \n",
      "\n",
      "                    End Time Details  time_diff  \n",
      "0  2025-07-17 13:30:00-06:00    None   1.688108  \n",
      "1  2025-07-20 00:00:00-06:00    None   3.167274  \n",
      "                          Title                 Start Time  \\\n",
      "2  Flight to San Juan (UA 1339)  2025-08-02 09:43:00-06:00   \n",
      "3    Flight to Denver (UA 1368)  2025-08-08 11:40:00-06:00   \n",
      "\n",
      "                    End Time Details  time_diff  \n",
      "2  2025-08-02 15:30:00-06:00    None  17.572135  \n",
      "3  2025-08-08 18:11:00-06:00    None  23.653385  \n"
     ]
    }
   ],
   "source": [
    "df_today = df[df['time_diff'] <= 1]\n",
    "df_this_week = df[(df['time_diff'] <= 7) & (df['time_diff'] > 1)]\n",
    "df_this_month = df[(df['time_diff'] > 7) & (df['time_diff'] <= 31)]\n",
    "\n",
    "print(df_this_week)\n",
    "print(df_this_month)"
   ]
  },
  {
   "cell_type": "code",
   "execution_count": null,
   "id": "7b098fb1",
   "metadata": {},
   "outputs": [],
   "source": []
  }
 ],
 "metadata": {
  "kernelspec": {
   "display_name": "life-track",
   "language": "python",
   "name": "python3"
  },
  "language_info": {
   "codemirror_mode": {
    "name": "ipython",
    "version": 3
   },
   "file_extension": ".py",
   "mimetype": "text/x-python",
   "name": "python",
   "nbconvert_exporter": "python",
   "pygments_lexer": "ipython3",
   "version": "3.13.5"
  }
 },
 "nbformat": 4,
 "nbformat_minor": 5
}
