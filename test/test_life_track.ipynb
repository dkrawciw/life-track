{
 "cells": [
  {
   "cell_type": "code",
   "execution_count": 1,
   "id": "e6d8fc43",
   "metadata": {},
   "outputs": [],
   "source": [
    "import os\n",
    "import sys\n",
    "from pathlib import Path\n",
    "from datetime import datetime\n",
    "\n",
    "notebook_dir = Path(os.getcwd())\n",
    "project_root = notebook_dir.parent\n",
    "src_dir = project_root / \"src\"\n",
    "model_dir = project_root / \"model\"\n",
    "sys.path.insert(0, str(src_dir))\n",
    "sys.path.insert(0, str(model_dir))\n",
    "\n",
    "from LifeTrack import LifeTrack"
   ]
  },
  {
   "cell_type": "code",
   "execution_count": 2,
   "id": "7f9d1c5e",
   "metadata": {},
   "outputs": [],
   "source": [
    "track_one = LifeTrack()\n",
    "track_one.send_daily_email()"
   ]
  }
 ],
 "metadata": {
  "kernelspec": {
   "display_name": ".venv",
   "language": "python",
   "name": "python3"
  },
  "language_info": {
   "codemirror_mode": {
    "name": "ipython",
    "version": 3
   },
   "file_extension": ".py",
   "mimetype": "text/x-python",
   "name": "python",
   "nbconvert_exporter": "python",
   "pygments_lexer": "ipython3",
   "version": "3.13.5"
  }
 },
 "nbformat": 4,
 "nbformat_minor": 5
}
